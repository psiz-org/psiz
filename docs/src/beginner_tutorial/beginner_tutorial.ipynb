{
 "cells": [
  {
   "attachments": {},
   "cell_type": "markdown",
   "metadata": {
    "execution": {
     "timeout": -1
    }
   },
   "source": [
    "# Introduction\n",
    "\n",
    "The Beginner Tutorial covers the path from problem formulation, data preparation, model inference, and model analysis using simulated (fake) data. The tutorial aims to teach the basic organization and mechanics of PsiZ, giving readers the background necessary to use PsiZ in their own projects. Some familiarity with TensorFlow is assumed. In order to provide a relatively gentle introduction, this tutorial bypasses some best practices and more advanced features.\n",
    "\n",
    "```{note}\n",
    "When a short-cut is taken, a callout box like this one highlights the best practice for real applications.\n",
    "```\n",
    "\n",
    "Big picture, PsiZ uses observable human behavior (such as similarity judgments) to infer psychological representations people use to perceive the world. While this tutorial uses fake stimuli, PsiZ is designed to model psychological representations of real-world stimuli: such as images, audio, movies, words, odors, and text. After completing this tutorial you should have a good idea how to use PsiZ with your own data.\n",
    "\n",
    "The tutorial is divided into five parts:\n",
    "\n",
    "1. Problem Formulation\n",
    "2. Model Construction\n",
    "2. Data Preparation\n",
    "4. Model Inference\n",
    "5. Model Analysis\n",
    "\n",
    "If you would like to run this notebook on your local machine, the file is available at [PsiZ's GitHub](https://github.com/psiz-org/psiz/blob/main/docs/src/beginner_tutorial/beginner_tutorial.ipynb)."
   ]
  },
  {
   "attachments": {},
   "cell_type": "markdown",
   "metadata": {},
   "source": [
    "## Preliminaries\n",
    "\n",
    "Start by importing packages and setting some environment variables. We also reduce TensorFlow's log output to a quieter setting."
   ]
  },
  {
   "cell_type": "code",
   "execution_count": 1,
   "metadata": {},
   "outputs": [],
   "source": [
    "import os\n",
    "os.environ[\"TF_CPP_MIN_LOG_LEVEL\"] = \"2\"\n",
    "\n",
    "import numpy as np\n",
    "import tensorflow as tf\n",
    "import tensorflow_probability as tfp\n",
    "\n",
    "import psiz\n",
    "\n",
    "# Optional settings, see Note for explanation.\n",
    "os.environ[\"CUDA_DEVICE_ORDER\"] = \"PCI_BUS_ID\"  # A\n",
    "os.environ[\"CUDA_VISIBLE_DEVICES\"] = \"0\"  # A\n",
    "# tf.config.run_functions_eagerly(True)  # B"
   ]
  },
  {
   "cell_type": "markdown",
   "metadata": {},
   "source": [
    "```{note}\n",
    "If you want to force execution to use a specific GPU, you can uncomment the lines marked with an `A`. If uncommented, the current setting will force execution to use \"GPU 0\". If you want to force *eager execution*, uncomment the line marked with a `B`. Eager execution is useful for debugging since it uses a non-optimized CPU mode that allows line-by-line state inspection. See the [TensorFlow Guide](https://www.tensorflow.org/guide/effective_tf2#debugging) for more information.\n",
    "```"
   ]
  },
  {
   "attachments": {},
   "cell_type": "markdown",
   "metadata": {},
   "source": [
    "# Problem Formulation\n",
    "\n",
    "Imagine we are interested in understanding how the average person perceives a set of **30 stimuli**. These 30 stimuli could be almost anything: bird images, music tracks, beer flavors, flower fragrences, haikus.\n"
   ]
  },
  {
   "cell_type": "markdown",
   "metadata": {},
   "source": [
    "\n",
    "We would like to assemble a *cognitive map* that reveals how the stimili are arranged in psychological space. Being able to assemble a psychological embedding has important applications in society. For example, it could help researchers understand how medical professionals recognize which skin lesions are life threatening. In turn, that knowledge could be leveraged to make medical training more efficient and less effortful.\n"
   ]
  },
  {
   "attachments": {},
   "cell_type": "markdown",
   "metadata": {},
   "source": [
    "\n",
    "## Solving with PsiZ\n",
    "\n",
    "PsiZ uses formal models to understand mental representations. Since mental representations are not directly observable, we use statistical inference to identify the mental representations that are most likely to explain observable behavior. A PsiZ model has two primary components: a *percept* module and a *task* module. The percept module maps a stimulus to a psychological representation and constitutes our cognitive map. The task module details how the psychological representations yield the observed behavior. Both of these modules are discussed in more detail below when we construct our first model.\n",
    "\n",
    "```{note}\n",
    "Since a model can be run in generative mode, the model can be treated as *virtual subject*. For this reason, it is often preferable to use the more general term *agent* data (which includes human and machine data), rather than *human* data.\n",
    "```\n"
   ]
  },
  {
   "attachments": {},
   "cell_type": "markdown",
   "metadata": {},
   "source": [
    "\n",
    "## Choosing a Task\n",
    "\n",
    "Many tasks can be used to ellicit obserable behavior, but a handful of tasks are particularly popular for probing psychological representations. Popular tasks include:\n",
    "\n",
    "* **pairwise rating**: given two stimuli, rate the similarity of the two stimuli on a numerical scale (e.g., 1 to 7)\n",
    "* **triplet similarity**: given 1 stimulus, choose which of two additional stimuli is most similar\n",
    "* **odd-one-out**: given three images, select the image that doesn't belong\n",
    "* **categorization**: given an image, provide the category label.\n",
    "\n",
    "Some tasks will be better suited for certain stimuli. For example, if judging the similarity between odors, odors will need to be presented separately to prevent the odors from mixing; this makes sequential pairwise ratings a good task. In contrast, if using images as stimuli, multiple images can be shown simultaneously by tiling them on the display; allowing for a wider variety of tasks.\n",
    "\n",
    "**In this tutorial, we use the triplet similarity task.** In a triplet similarity task, one stimulus serves as a *query* and two stimuli serve as *references*. The participant is tasked with selecting the reference that is most similarity to the query. A triplet similarity task is a special case of a more general *rank similarity* task. In a rank similarity task, a particiapnt is shown `n_reference` references and must make `n_select` selections while also indicating the ranking of their selections. For the remainder of the tutorial we will refer to the triplet similarity task as a *2-rank-1* task."
   ]
  },
  {
   "attachments": {},
   "cell_type": "markdown",
   "metadata": {},
   "source": [
    "## Model Hyperparameters\n",
    "\n",
    "The simplest percept module is an embedding layer which maps a stimulus ID to a multidimensional representation (i.e., an embedding point). A common hyperparameter for embedding layers is the number of dimensions of the embedding space (what `tf.keras.layers.Embedding` calls `output_dim`). For this tutorial we will infer a **two-dimensional embedding** in order to keep the model simple and facilitate later visualization.\n",
    "\n",
    "```{note}\n",
    "When inferring an embedding in a real application, it is typically important to treat the dimensionality as a hyperparameter and select in an appropriate manner (e.g., via cross-validation).\n",
    "```"
   ]
  },
  {
   "attachments": {},
   "cell_type": "markdown",
   "metadata": {},
   "source": [
    "\n",
    "## Choosing the Number of Trials\n",
    "\n",
    "Each collected 2-rank-1 corresponds to a *triplet constraint*. Consider a trial with query stimulus $q$ and reference stimuli $a$ and $b$. If a participant selects $a$ as more similar, we can use a shorthand to denote the the triplet constraint $a > b | q$.\n",
    "\n",
    "Inference is a search for a solution that best satisfies all the triplet constraints. In a multidimensional solution, stimuli that are judged as similar are placed close together in the multidimensional space and stimuli judged as dissimilar are placed far apart. We refer to this kind of representation as a *psychological embedding*.\n",
    "\n",
    "If you give the same trial to different people, you may get different responses (i.e., between-subject variability). The same person might even give different reponses for the same trial, at different points in time (i.e., within-subject variability). The inference procedure will find the embedding that best satisfies all the (potentially noisy) triplet constraints.\n",
    "\n",
    "It is difficult to predict how many trials will be necessary to obtain a high-quality embedding. Intuitively, you need enough triplet constraints to rule out incorrect solutions. There are three main factors that influence this amount:\n",
    "\n",
    "1. More trials are necessary if the number of stimuli increases.\n",
    "2. More trials are necessary if within- or between-subject agreement decreases.\n",
    "3. The trial content selection strategy impacts how many trials are necessary.\n",
    "\n",
    "This tutorial side-steps this issue by collecting a **pre-determined number of trials**."
   ]
  },
  {
   "attachments": {},
   "cell_type": "markdown",
   "metadata": {},
   "source": [
    "\n",
    "```{note}\n",
    "While predicting the necessary number of trials is challenging, it is relatively  straightforward to perform a post hoc evaluation that tests if a sufficient amount of data has been collected. For more details, see examples/rank/mle_1g.py and tutorials/beginner_tutorial_part_2\n",
    "```\n",
    "\n",
    "```{note}\n",
    "In regards to different content selection strategies, using active learning to select trial content instead of randomly sampling trials can greatly reduce the number of trials necessary to achieve a stable embedding. See {cite}`Roads_Mozer_2019_BRM` and {cite}`Roads_Love_2021:CVPR` for details on performing active learning.\n",
    "```\n",
    "\n",
    "Collecting all of our problem specifications gives us the following variables:"
   ]
  },
  {
   "cell_type": "code",
   "execution_count": 2,
   "metadata": {},
   "outputs": [],
   "source": [
    "# Number of stimuli.\n",
    "n_stimuli = 30\n",
    "\n",
    "# Settings defining the 2-rank-1 (triplet) similarity task.\n",
    "n_reference = 2\n",
    "n_select = 1\n",
    "\n",
    "# Hyperparameter choices.\n",
    "n_dim = 2\n",
    "\n",
    "# Number of trials to use.\n",
    "n_trial = 3000"
   ]
  },
  {
   "attachments": {},
   "cell_type": "markdown",
   "metadata": {},
   "source": [
    "\n",
    "With the general problem paramters specified, we can dive into constructing an appropriate model"
   ]
  },
  {
   "attachments": {},
   "cell_type": "markdown",
   "metadata": {},
   "source": [
    "# Model Construction\n",
    "\n",
    "A PsiZ model contains two conceptual components. The first is a *percept* module, which describes how individuals perceive a set of stimuli. The second is a *task* module, which describes how the perceived stimuli yield the observed task behaviour. These components are intentionally denoted as *modules* because each can be substituted with variants.\n",
    "\n",
    "In this tutorial, the major modelling choices are as follows:\n",
    "* The percept module is a *population-level* embedding layer; where the free parameters are fit to all of the data and ignore agent membership.\n",
    "* The task module is a population-level behavior layer that models 2-rank-1 similarity judgments.\n",
    "* Both the percept and task module are fit using maximum likelihood estimation.\n",
    "\n",
    "```{note}\n",
    "If you want to model individual differences or differences between experimental conditions, you would use a more sophisticated percept module. For example, you could use an implementation based on the classic idea of *attention weights* (see [`examples/rank/mle_3g.py`](https://github.com/psiz-org/psiz/blob/main/examples/rank/mle_3g.py)).\n",
    "```\n",
    "\n",
    "```{note}\n",
    "Maximum likelihood estimation (MLE) is a convenient method, but is limited by the fact it lacks a direct read-out of confidence (i.e., uncertainty). In situations where you also need to know how certain an estimate is, you could use an approach like variational inference (see [`examples/rank/vi_1g.py`](https://github.com/psiz-org/psiz/blob/main/examples/rank/vi_1g.py)).\n",
    "```\n",
    "\n",
    "```{note}\n",
    "In TensorFlow, a *layer* is the name used for an abstract building block of a model. When using TensorFlow it is best practice to assemble your models from layers. One of the main benefits of PsiZ is the set of layers it provides.\n",
    "```"
   ]
  },
  {
   "attachments": {},
   "cell_type": "markdown",
   "metadata": {},
   "source": [
    "## Percept Module\n",
    "\n",
    "The percept module is just a single embedding layer with the added interpretation that the embedding space is a psychological space. Let's unpack the code for the percept module.\n",
    "\n",
    "```\n",
    "percept = tf.keras.layers.Embedding(\n",
    "    n_stimuli + 1,\n",
    "    n_dim,\n",
    "    mask_zero=True,\n",
    "    embeddings_initializer=tf.keras.initializers.RandomNormal(stddev=.17)\n",
    ")\n",
    "```\n",
    "\n",
    "The embedding coordinates are assigned to the layer variable `percept`. If we assume that the embedding has `N` stimuli and `D` dimensions, then the `percept` layer has a learnable weight matrix $\\bm{Z} \\in \\mathbb{R}^{N \\times D}$. The weight matrix $\\bm{Z}$ behaves like a lookup table during a forward pass of the model. The weight matrix $\\bm{Z}$ is randomly initialized according to a Normal distribution.\n",
    "\n",
    "For example, consider the case where a 2-rank-1 trial is presented to the model. If stimulus `9` is the query and stimuli `1` and `7` are references (i.e., $\\bm{x}_i = \\left[9, 1, 7 \\right]$), we would grab the corresponding rows of $\\bm{Z}$: $\\bm{z}_9$, $\\bm{z}_1$, and $\\bm{z}_7$. Each row, or vector, represents the corresponding $d$-dimensional coordinates of stimuli `9`, `1`, and `7`.\n",
    "\n",
    "We use the `mask_zero` argument to let the model know it should ignore `0` placeholder integers. While ignoring `0` is not necessary in this tutorial, we do it to stay consistent with other tutorials and examples where it is necessary.\n",
    "\n",
    "```{note}\n",
    "In general, a percept module could involve more than one embedding layer.\n",
    "```"
   ]
  },
  {
   "attachments": {},
   "cell_type": "markdown",
   "metadata": {},
   "source": [
    "## Task Module\n",
    "\n",
    "The task module maps psychological representations to observed behavior. A common subcomponet of the task module is a kernel function that outputs the similarity (or dissimilarity) betweeen two embedding points."
   ]
  },
  {
   "attachments": {},
   "cell_type": "markdown",
   "metadata": {},
   "source": [
    "\n",
    "### Kernel Function\n",
    "\n",
    "One way to create a kernel is to define a distance function and a transformation function that converts distance to similarity.\n",
    "\n",
    "```\n",
    "kernel = psiz.keras.layers.DistanceBased(\n",
    "    distance=psiz.keras.layers.Minkowski(\n",
    "        rho_initializer=tf.keras.initializers.Constant(2.),\n",
    "        w_initializer=tf.keras.initializers.Constant(1.),\n",
    "        trainable=False\n",
    "    ),\n",
    "    similarity=psiz.keras.layers.ExponentialSimilarity(\n",
    "        beta_initializer=tf.keras.initializers.Constant(10.),\n",
    "        tau_initializer=tf.keras.initializers.Constant(1.),\n",
    "        gamma_initializer=tf.keras.initializers.Constant(0.),\n",
    "        trainable=False,\n",
    "    )\n",
    ")\n",
    "```\n",
    "\n",
    "The kernel layer is assigned to the variable `kernel`. The kernel layer is itself composed of two layers: a `psiz.keras.layers.Minkowski` layer and a `psiz.keras.layers.ExponentialSimilarity` layer. It is worth noting up front that these two layers are parameterized and the parameters can be learned from the data. To keep the tutorial simple, all of the kernel parameters are set to sensible values and made untrainable via the `trainable=False` argument.\n",
    "\n",
    "The `Minkowski` layer computes the weighted Minkowski distance between two vectors:\n",
    "```{math}\n",
    ":label: eq:minkowski\n",
    "\\mathrm{d} \\left( \\bm{z}_i, \\bm{z}_j \\right) = \\| \\bm{z}_i - \\bm{z}_j\\|_{\\rho, \\bm{w}} = \\left[ \\sum^{D}_{d} w_{d} \\left( z_{i,d} - z_{j,d}\\right)^{\\rho} \\right]^{\\frac{1}{\\rho}}.\n",
    "```\n",
    "The distance function parameters are set to $\\rho=2$ and $\\bm{w}=\\bm{1}$, which yields the standard Euclidean distance function. The `ExponentialSimilarity` layer takes the distance and applies a non-linear mapping:\n",
    "```{math}\n",
    ":label: eq:similarity\n",
    "\\mathrm{s} \\left( \\bm{z}_i, \\bm{z}_j \\right) = \\mathrm{exp}\\left(-\\beta \\mathrm{d}\\left( \\bm{z}_i, \\bm{z}_j \\right)^{\\tau} \\right) + \\gamma.\n",
    "```\n",
    "The similarity function parameters are set to $\\beta=10$, $\\gamma=0$, and $\\tau=1$; yielding similarity that decays exponentially as distance increases.\n",
    "\n",
    "The psychological theory motivating this kernel can be found elsewhere {cite}`Jones_Love_Maddox_2006,Jones_Maddox_Love_2006,Nosofsky_1986,Roads_Mozer_2019_BRM,Shepard_1987`, but it is worth noting that many other kernels are possible. Decomposing the kernel into two layers makes it easy to explore many different types of similarity kernels. For example, one might want to try a heavy-tailed similarity function that is popular in the machine learning literature {cite}`vanderMaaten_2012:MLSP` or even substitute a non-Minkowski distance function.\n",
    "\n",
    "Continuing with our 2-rank-1 example, the coordinates ($\\bm{z}_9$, $\\bm{z}_1$, $\\bm{z}_9$) are used in the kernel to compute similarity. A 2-rank-1 trial involves computing two similarity relations: $\\mathrm{s}\\left( \\bm{z}_9, \\bm{z}_1 \\right)$ and $\\mathrm{s}\\left( \\bm{z}_9, \\bm{z}_1 \\right)$."
   ]
  },
  {
   "attachments": {},
   "cell_type": "markdown",
   "metadata": {},
   "source": [
    "### Behavioral Outcomes\n",
    "\n",
    "The behavioral outcomes of a 2-rank-1 trial are computed using a `RankSimilarity` layer.\n",
    "\n",
    "```\n",
    "rank = psiz.keras.layers.RankSimilarity(\n",
    "    n_reference=n_reference,\n",
    "    n_select=n_select,\n",
    "    percept=percept,\n",
    "    kernel=kernel\n",
    ")\n",
    "```\n",
    "\n",
    "In addition to the arguments defining the similarity judgment (`n_reference` and `n_select`), we also pass two layers as arguments: the kernel layer (`kernel`) and the psychological embedding layer (`percept`).\n",
    "\n",
    "Inside the `RankSimilarity` layer, outcomes are computed using Luce's choice rule {cite}`Luce_1959`. In the case of a 2-rank-1 trial, a reference is selected in proportion to its similarity with the query. The probability of selecting reference `a` instead of reference `b` is: \n",
    "```{math}\n",
    ":label: eq:2-rank-1\n",
    "\\mathrm{P} \\left( \\mathcal{D}_{i} = \\left[q, a, b \\right] \\right) = \\frac{\\mathrm{s} \\left( \\bm{z}_q, \\bm{z}_a \\right)}{\\mathrm{s} \\left( \\bm{z}_q, \\bm{z}_a \\right) + \\mathrm{s} \\left( \\bm{z}_q, \\bm{z}_b \\right)}.\n",
    "```\n",
    "Continuing with the example introduced above, given query `9`, the probabilty of selecting reference `1` (instead of `7`) is:\n",
    "```{math}\n",
    ":label: eq:2-rank-1-a\n",
    "\\mathrm{P} \\left( \\mathcal{D}_{i} = \\left[9, 1, 7 \\right] \\right) = \\frac{\\mathrm{s} \\left( \\bm{z}_9, \\bm{z}_1 \\right)}{\\mathrm{s} \\left( \\bm{z}_9, \\bm{z}_1 \\right) + \\mathrm{s} \\left( \\bm{z}_9, \\bm{z}_7 \\right)}.\n",
    "```\n",
    "\n",
    "Using this equation you can compute the probabilities associated with all possible outcomes. For a 2-rank-1 trial there are only two possible outcomes. If one needs to run a model in generative mode, these probabilties can be converted to a single outcome by sampling from the probabilies (i.e., sampling from the corresponding categorical distribution)."
   ]
  },
  {
   "attachments": {},
   "cell_type": "markdown",
   "metadata": {},
   "source": [
    "## Putting It All Together\n",
    "\n",
    "The last step is to package all of these pieces up inside a Keras `Model`. To make it easy to build multiple models, we wrap the construction code inside a `build_rank_model` function."
   ]
  },
  {
   "cell_type": "code",
   "execution_count": 3,
   "metadata": {},
   "outputs": [],
   "source": [
    "class RankModel(tf.keras.Model):\n",
    "    \"\"\"A simple Keras model.\"\"\"\n",
    "\n",
    "    def __init__(self, behavior=None, **kwargs):\n",
    "        \"\"\"Initialize.\"\"\"\n",
    "        super(RankModel, self).__init__(**kwargs)\n",
    "        self.behavior = behavior\n",
    "\n",
    "    def call(self, inputs):\n",
    "        \"\"\"Call.\"\"\"\n",
    "        return self.behavior(inputs)\n",
    "\n",
    "\n",
    "def build_rank_model(n_stimuli, n_reference, n_select, n_dim):\n",
    "    \"\"\"Build ranked similarity model.\n",
    "\n",
    "    Args:\n",
    "        n_stimuli: Integer indicating the number of stimuli in the\n",
    "            embedding.\n",
    "        n_reference: Integer indicating the number of references in\n",
    "            the ranked similarity judgment.\n",
    "        n_select: Integer indicating the number of selections in the\n",
    "            ranked similarity judgment.\n",
    "        n_dim: Integer indicating the dimensionality of the embedding.\n",
    "\n",
    "    Returns:\n",
    "        model: A compiled Keras model.\n",
    "\n",
    "    \"\"\"\n",
    "    # Create a psychological embedding layer that contains free parameters\n",
    "    # representing the psychological coordinates of the stimuli.\n",
    "    percept = tf.keras.layers.Embedding(\n",
    "        n_stimuli + 1,\n",
    "        n_dim,\n",
    "        mask_zero=True,\n",
    "        embeddings_initializer=tf.keras.initializers.RandomNormal(stddev=.17)\n",
    "    )\n",
    "\n",
    "    # Create a similarity kernel layer that computes the similarity between\n",
    "    # coordinates in psychological space.\n",
    "    kernel = psiz.keras.layers.DistanceBased(\n",
    "        distance=psiz.keras.layers.Minkowski(\n",
    "            rho_initializer=tf.keras.initializers.Constant(2.),\n",
    "            w_initializer=tf.keras.initializers.Constant(1.),\n",
    "            trainable=False\n",
    "        ),\n",
    "        similarity=psiz.keras.layers.ExponentialSimilarity(\n",
    "            beta_initializer=tf.keras.initializers.Constant(10.),\n",
    "            tau_initializer=tf.keras.initializers.Constant(1.),\n",
    "            gamma_initializer=tf.keras.initializers.Constant(0.),\n",
    "            trainable=False,\n",
    "        )\n",
    "    )\n",
    "\n",
    "    # Create a task module for the rank similarity task.\n",
    "    rank = psiz.keras.layers.RankSimilarity(\n",
    "        n_reference=n_reference,\n",
    "        n_select=n_select,\n",
    "        percept=percept,\n",
    "        kernel=kernel\n",
    "    )\n",
    "    \n",
    "    # Pass component layers to the subclassed Keras model.\n",
    "    model = RankModel(behavior=rank)\n",
    "\n",
    "    # Compile the model using categorical crossentropy for the loss and\n",
    "    # a popular gradient decent optimizer.\n",
    "    model.compile(\n",
    "        loss=tf.keras.losses.CategoricalCrossentropy(),\n",
    "        optimizer=tf.keras.optimizers.Adam(learning_rate=.001),\n",
    "        metrics=[tf.keras.metrics.CategoricalAccuracy(name='accuracy')]\n",
    "    )\n",
    "\n",
    "    return model"
   ]
  },
  {
   "attachments": {},
   "cell_type": "markdown",
   "metadata": {},
   "source": [
    "# Data Preparation\n",
    "\n",
    "Since we are using simulated data, our data preparation pipeline will include a virtual agent. We will treat the virtual agent as our *ground truth* model. Our hope is that the *inferred* model (which is blind to the embedding coordinates of the ground truth model) learns an embedding that   matches the ground truth model.\n",
    "\n",
    "We will start by creating our virtual agent (ground truth) model that outputs 2-rank-1 predictions."
   ]
  },
  {
   "cell_type": "code",
   "execution_count": 4,
   "metadata": {},
   "outputs": [],
   "source": [
    "virtual_agent_2rank1 = build_rank_model(\n",
    "    n_stimuli, n_reference, n_select, n_dim\n",
    ")"
   ]
  },
  {
   "attachments": {},
   "cell_type": "markdown",
   "metadata": {},
   "source": [
    "Next we generate a random sample of 2-rank-1 trial content and format as a `tf.data.Dataset` object."
   ]
  },
  {
   "cell_type": "code",
   "execution_count": 5,
   "metadata": {},
   "outputs": [],
   "source": [
    "# Generate a random set of trials.\n",
    "rng = np.random.default_rng()\n",
    "eligibile_indices = np.arange(n_stimuli) + 1\n",
    "p = np.ones_like(eligibile_indices) / len(eligibile_indices)\n",
    "stimulus_set = psiz.utils.choice_wo_replace(\n",
    "    eligibile_indices, (n_trial, 3), p, rng=rng\n",
    ")\n",
    "content = psiz.data.Rank(stimulus_set, n_select=1)\n",
    "pds = psiz.data.Dataset([content])\n",
    "tfds_content = pds.export(export_format='tfds')"
   ]
  },
  {
   "attachments": {},
   "cell_type": "markdown",
   "metadata": {},
   "source": [
    "```{note}\n",
    "You may have noticed that the stimulus IDs begin at `1`, not `0`. This ties back to our choice to use `mask_zero=True`.\n",
    "```\n",
    "\n",
    "```{note}\n",
    "Since we are using the TensorFlow ecosystem, we convert the data objects into `tf.data.Dataset` objects. This allows us to seamlessly exploit TF's flexible data processing pipeline. You can learn more by going to [TF's tf.data.Dataset documentation](https://www.tensorflow.org/api_docs/python/tf/data/Dataset).\n",
    "```\n",
    "\n",
    "We then feed the trial content to the virtual agent and simulate trial behavior."
   ]
  },
  {
   "cell_type": "code",
   "execution_count": 6,
   "metadata": {},
   "outputs": [],
   "source": [
    "# Simulate similarity judgments and append outcomes to dataset.\n",
    "depth = content.n_outcome\n",
    "\n",
    "def simulate_agent(x):\n",
    "    # Compute probability associated with all possible outcomes (2 outcomes).\n",
    "    outcome_probs = virtual_agent_2rank1(x)\n",
    "    # Sample an outcome based on probabilities.\n",
    "    outcome_distribution = tfp.distributions.Categorical(\n",
    "        probs=outcome_probs\n",
    "    )\n",
    "    outcome_idx = outcome_distribution.sample()\n",
    "    # Convert sampled outcome into a one-hot vector.\n",
    "    outcome_one_hot = tf.one_hot(outcome_idx, depth)\n",
    "    return outcome_one_hot\n",
    "\n",
    "tfds_all = tfds_content.map(lambda x: (x, simulate_agent(x))).cache()"
   ]
  },
  {
   "attachments": {},
   "cell_type": "markdown",
   "metadata": {},
   "source": [
    "In general, when fitting a model we are primarily intersted in how well a model generalizes to **new** data and therefore want to prevent overfitting. To achive this goal we follow standard practice and partition the data into a train, validation, and test set. In this tutorial we use an 80:10:10 split."
   ]
  },
  {
   "cell_type": "code",
   "execution_count": 7,
   "metadata": {},
   "outputs": [],
   "source": [
    "# Partition the data into 80% train, 10% validation and 10% test set.\n",
    "n_trial_train = int(np.floor(0.8 * n_trial))\n",
    "n_trial_val = int(np.floor(0.1 * n_trial))\n",
    "\n",
    "tfds_train = tfds_all.take(n_trial_train).cache()\n",
    "tfds_valtest = tfds_all.skip(n_trial_train)\n",
    "tfds_val = tfds_valtest.take(n_trial_val).cache()\n",
    "tfds_test = tfds_valtest.skip(n_trial_val).cache()"
   ]
  },
  {
   "attachments": {},
   "cell_type": "markdown",
   "metadata": {},
   "source": [
    "The last data preparation step is to specify our batch settings."
   ]
  },
  {
   "cell_type": "code",
   "execution_count": 8,
   "metadata": {},
   "outputs": [],
   "source": [
    "batch_size = 128\n",
    "\n",
    "tfds_train = tfds_train.shuffle(\n",
    "    buffer_size=n_trial_train, reshuffle_each_iteration=True\n",
    ").batch(\n",
    "    batch_size, drop_remainder=False\n",
    ")\n",
    "tfds_val = tfds_val.batch(\n",
    "    batch_size, drop_remainder=False\n",
    ")\n",
    "tfds_test = tfds_test.batch(\n",
    "    batch_size, drop_remainder=False\n",
    ")\n"
   ]
  },
  {
   "attachments": {},
   "cell_type": "markdown",
   "metadata": {},
   "source": [
    "```{note}\n",
    "The `batch_size` is typically chosen to be a power of 2 since this tends to be more efficient for reasons related to computer architecture. In memory-intensive applications, one typically picks the largest possible power of 2 such that the memory footprint of the batch will still fit on the GPUs/TPUs being used. However, you do not want a batch size that is so large that there is only one batch because multiple batches adds noise that helps gradient decent avoid local optimums (an important theoretical properity of stochastic gradient decent). In this application, our memory-footprint is small and a wide range of values work well.\n",
    "```\n",
    "\n",
    "With our data ready, we can move on to inferring a model."
   ]
  },
  {
   "attachments": {},
   "cell_type": "markdown",
   "metadata": {},
   "source": [
    "# Model Inference\n",
    "\n",
    "With our data ready, we create a fresh model that will serve as our *inferred* model."
   ]
  },
  {
   "cell_type": "code",
   "execution_count": 9,
   "metadata": {},
   "outputs": [],
   "source": [
    "inferred_model = build_rank_model(n_stimuli, n_reference, n_select, n_dim)"
   ]
  },
  {
   "attachments": {},
   "cell_type": "markdown",
   "metadata": {},
   "source": [
    "We will train our models until validation loss stops improving. This is implemented using an `EarlyStopping` callback.\n",
    "\n",
    "The number of epochs (`epochs`) is set to a sufficiently high number that the model reaches the early stopping criteria before the maximum number of epochs is exceeded. For our loss, we use categorical crossentropy because we are computing the probability of all possible outcomes (a categorical output).\n",
    "\n",
    "```{note}\n",
    "Since PsiZ carefully adheres to TensorFlow and Keras idioms, we can easily use features like Callbacks without any headaches. See TF documentation for more on [TF Callbacks](https://www.tensorflow.org/api_docs/python/tf/keras/callbacks/Callback).\n",
    "```\n",
    "\n",
    "```{note}\n",
    "Inference can take a few minutes to run depending on the hardware you are using.\n",
    "```"
   ]
  },
  {
   "cell_type": "code",
   "execution_count": 10,
   "metadata": {},
   "outputs": [
    {
     "name": "stdout",
     "output_type": "stream",
     "text": [
      "Inferred Model\n",
      "Metrics\n",
      "          | loss  | acc.  |\n",
      "    train | 0.498 | 0.769 |\n",
      "    val   | 0.500 | 0.757 |\n",
      "    test  | 0.489 | 0.770 |\n",
      "\n"
     ]
    }
   ],
   "source": [
    "def train_routine(model, tfds_train, tfds_val, tfds_test):\n",
    "    \"\"\"Run training routine.\n",
    "    \n",
    "    Args:\n",
    "        model: A PsiZ model.\n",
    "        tfds_train: A TF Dataset object of train data.\n",
    "        tfds_val: A TF Dataset object of validation data.\n",
    "        tfds_test: A TF Dataset object of test data.\n",
    "\n",
    "    Returns:\n",
    "        metrics: A dictionary of metrics.\n",
    "\n",
    "    \"\"\"\n",
    "    epochs = 3000\n",
    "\n",
    "    # Define an early stopping callback.\n",
    "    early_stop = tf.keras.callbacks.EarlyStopping(\n",
    "        'val_loss', patience=30, mode='min', restore_best_weights=True\n",
    "    )\n",
    "    callbacks = [early_stop]\n",
    "\n",
    "    model.fit(\n",
    "        x=tfds_train, validation_data=tfds_val, epochs=epochs,\n",
    "        callbacks=callbacks, verbose=0\n",
    "    )\n",
    "\n",
    "    train_results = model.evaluate(\n",
    "        tfds_train, verbose=0, return_dict=True\n",
    "    )\n",
    "    val_results = model.evaluate(\n",
    "        tfds_val, verbose=0, return_dict=True\n",
    "    )\n",
    "    test_results = model.evaluate(\n",
    "        tfds_test, verbose=0, return_dict=True\n",
    "    )\n",
    "\n",
    "    print(\n",
    "        'Metrics\\n'\n",
    "        '          | loss  | acc.  |\\n'\n",
    "        '    train | {0:.3f} | {1:.3f} |\\n'\n",
    "        '    val   | {2:.3f} | {3:.3f} |\\n'\n",
    "        '    test  | {4:.3f} | {5:.3f} |\\n'.format(\n",
    "            train_results['loss'],\n",
    "            train_results['accuracy'],\n",
    "            val_results['loss'],\n",
    "            val_results['accuracy'],\n",
    "            test_results['loss'],\n",
    "            test_results['accuracy'],\n",
    "        )\n",
    "    )\n",
    "    results = {\n",
    "        'train': train_results,\n",
    "        'val': val_results,\n",
    "        'test': test_results,\n",
    "    }\n",
    "    return results\n",
    "\n",
    "print('Inferred Model')\n",
    "results = train_routine(inferred_model, tfds_train, tfds_val, tfds_test)"
   ]
  },
  {
   "attachments": {},
   "cell_type": "markdown",
   "metadata": {},
   "source": [
    "The results from training reveal reasonable agreement between the train, validation, and test set. Note that the accuracy is less that `1.0`, but greter than chance (`0.5`).  The optimization process attempts to find the solution that satisfies as many triplet constraints as possible. Since the agent data was generated using a stochastic process, some of the simulated behavior is inconsistent. Inconsistent data is a common occurrence when using data from multiple people."
   ]
  },
  {
   "attachments": {},
   "cell_type": "markdown",
   "metadata": {},
   "source": [
    "# Model Analysis\n",
    "\n",
    "Model analysis is typically a multi-pronged approach. We will start by visualizing the embeddings and then detail a popular quantitative approach for comparing embeddings."
   ]
  },
  {
   "attachments": {},
   "cell_type": "markdown",
   "metadata": {},
   "source": [
    "## Embedding Visualization\n",
    "\n",
    "One way to explore the quality of the learned model is to visualize the entire embedding. While this is not always possible with high dimensional embeddings, our 2D embeddings are easy to visualize. We will use `matplotlib` and color code the 30 stimuli."
   ]
  },
  {
   "cell_type": "code",
   "execution_count": 11,
   "metadata": {},
   "outputs": [],
   "source": [
    "import matplotlib\n",
    "import numpy as np\n",
    "\n",
    "def color_styling(n_stimuli):\n",
    "    \"\"\"Hard-coded styling.\n",
    "    \n",
    "    First ten stimuli get colorful styling, remaining stimuli are gray.\n",
    "\n",
    "    Args:\n",
    "        n_stimuli: Integer indicating the number of stimuli.\n",
    "\n",
    "    Returns:\n",
    "        color_arr: An array of colors.\n",
    "\n",
    "    \"\"\"\n",
    "    # Define colors.\n",
    "    n_color = 10\n",
    "    cmap = matplotlib.cm.get_cmap('gist_ncar')\n",
    "    norm = matplotlib.colors.Normalize(vmin=0., vmax=n_color)\n",
    "    color_arr = cmap(norm(range(n_color)))\n",
    "\n",
    "    n_gray = n_stimuli - n_color\n",
    "    gray_arr = .7 * np.ones([n_gray, 4])\n",
    "    gray_arr[:, 3] = 1.\n",
    "\n",
    "    color_arr =  np.vstack([color_arr, gray_arr])\n",
    "    return color_arr\n",
    "\n",
    "color_arr = color_styling(n_stimuli)"
   ]
  },
  {
   "cell_type": "markdown",
   "metadata": {},
   "source": [
    "With our styling defined, we can create a visualization for each model."
   ]
  },
  {
   "cell_type": "code",
   "execution_count": 12,
   "metadata": {},
   "outputs": [
    {
     "data": {
      "text/plain": [
       "[]"
      ]
     },
     "execution_count": 12,
     "metadata": {},
     "output_type": "execute_result"
    },
    {
     "data": {
      "image/png": "[encoded data removed]",
      "text/plain": [
       "<Figure size 600x800 with 1 Axes>"
      ]
     },
     "metadata": {},
     "output_type": "display_data"
    }
   ],
   "source": [
    "import matplotlib.pyplot as plt\n",
    "\n",
    "def plot_embedding_overlap(ax, agent, inferred, color_arr):\n",
    "    \"\"\"Plot embedding.\n",
    "    \n",
    "    Args:\n",
    "        ax: A Matplotlib axes object.\n",
    "        agent: A Keras model.\n",
    "        inferred: A Keras model.\n",
    "        class_arr: An array of colors.\n",
    "\n",
    "    \"\"\"\n",
    "    # Hardcoded values.\n",
    "    s = 10  # Size of plot markers.\n",
    "    scatter_padding = 1.2  # Padding around embedding scatter points.\n",
    "\n",
    "    loc_agent = process_coordinates(agent)\n",
    "    loc_inferred = process_coordinates(inferred)\n",
    "\n",
    "    # Apply Procrustes transformation since our embeddings are rotation\n",
    "    # invariant.\n",
    "    r = psiz.utils.procrustes_rotation(\n",
    "        loc_inferred, loc_agent, scale=True\n",
    "    )\n",
    "    loc_inferred = np.matmul(loc_inferred, r)\n",
    "\n",
    "    # Determine embedding limits of family.\n",
    "    z_max = scatter_padding * np.max(np.abs(loc_agent))\n",
    "    z_limits = np.array([-z_max, z_max])\n",
    "\n",
    "    # Draw embedding points.\n",
    "    ax.scatter(\n",
    "        loc_agent[:, 0],\n",
    "        loc_agent[:, 1],\n",
    "        s=s,\n",
    "        c='none',\n",
    "        marker='s',\n",
    "        edgecolors=color_arr,\n",
    "        label='Agent'\n",
    "    )\n",
    "    ax.scatter(\n",
    "        loc_inferred[:, 0],\n",
    "        loc_inferred[:, 1],\n",
    "        s=s,\n",
    "        c=color_arr,\n",
    "        marker='o',\n",
    "        edgecolors='none',\n",
    "        label='Inferred'\n",
    "    )\n",
    "    ax.set_xlim(z_limits)\n",
    "    ax.set_ylim(z_limits)\n",
    "    ax.set_aspect('equal')\n",
    "    ax.set_xticks([])\n",
    "    ax.set_yticks([])\n",
    "\n",
    "\n",
    "def process_coordinates(model):\n",
    "    # Grab embedding coordinates.\n",
    "    loc = model.behavior.percept.embeddings.numpy()\n",
    "    if model.behavior.percept.mask_zero:\n",
    "        # Drop placeholder stimulus.\n",
    "        loc = loc[1:]\n",
    "\n",
    "    # Center coordinates for Procrustes and plotting.\n",
    "    loc = loc - np.mean(loc, axis=0, keepdims=True)\n",
    "\n",
    "    return loc\n",
    "\n",
    "\n",
    "# Create visual of two models.\n",
    "fig = plt.figure(figsize=(3, 4), dpi=200)\n",
    "gs = fig.add_gridspec(1, 1)\n",
    "\n",
    "ax = fig.add_subplot(gs[0, 0])\n",
    "plot_embedding_overlap(\n",
    "    ax, virtual_agent_2rank1, inferred_model, color_arr\n",
    ")\n",
    "ax.set_title('Embedding Overlap')\n",
    "ax.legend()\n",
    "\n",
    "gs.tight_layout(fig)\n",
    "plt.plot()"
   ]
  },
  {
   "attachments": {},
   "cell_type": "markdown",
   "metadata": {},
   "source": [
    "### What about the differences between the two embeddings?\n",
    "\n",
    "Some of the coordinates for the inferred embedding do not overlap with the corresponding coordinates of the virtual agent. We have already confirmed that the two models have similar losses, so what's going on? While this difference may seem meaningful from the perspective of L2 (Eulcidean) distance, it is important to remember that similarity (not distance) is the critical quantity in these models. In these models, similarity decays exponentially with increasing distance. This means that two stimuli that are moderately far apart and extremely far apart will both have a small similarity. As a consequence there are a large number of equally good solutions for embedding dissimilar items. In contrast, the relatively similar items constrain which solutions are viable. This flexibility means that visual inspection is fine for initial exploration, but it is not a great way to *compare* embeddings. To make comparisons, we need an alternative strategy."
   ]
  },
  {
   "attachments": {},
   "cell_type": "markdown",
   "metadata": {},
   "source": [
    "## Second-Order Isomporphism\n",
    "\n",
    "Embedding coordinate visualizations yield figures that provide a general picture of the learned solution. But coordinates only tell part of the story. It is more important that the emeddings correctly model pairwise similarity between items. Since similarity is often a non-linear function, focusing on Euclidean distances between coordinates can be misleading. A summary of similarity can be obtained by assembling a pairwise similarity matrix $\\mathbf{s}$, where the matrix element $s_{ij}$ contains the computed similarity between stimulus $i$ and stimulus $j$. \"Unrolling\" (i.e., reshaping) the matrix into a one dimensional array allows us to easily compare two pairwise similarity matrices.\n",
    "\n",
    "```{note}\n",
    "Depending on the similarity kernel, some elements of the similarity matrix should be omitted from the comparison. For instance, if self-similarity (i.e., diagonal ) values are uninformative, they should be excluded since they may artificially inflate the comparison. In this tutorial, self-similarity is always `1` so we exclude the diagonal elements. If the similarity kernel is symmetric (`s(z_0,z_1) = s(z_1, z_0)`), it is not necessary to compute both $s_{ij}$ and $s_{ji}. Instead one can compute just the upper (or lower) triangular portion of the similarity matrix. Since our similarity function is symmetric we will only compute the upper triangular portion.\n",
    "```\n",
    "\n",
    "A popular method of comparison is to compute the Pearson correlation between two unrolled similarity matrices. This method of comparison allows us to evaluate the extent that models exhibit *meaningful* differences. This kind of analysis has been around a long time in psychology. For example, Sheperd framed this analysis as focusing on second-order isomorphism (similarity matrix equivalency) rather than focusing on first-order isomorphism (coordinate equivalency) {cite}`Shepard_Chipman_1970`. Today, cognitive scientists often refer to this kind of analysis as representational similarity analysis (RSA) {cite}`Kriegeskorte_Mur_Bandettini_2008`.\n",
    "\n",
    "```{note}\n",
    "There are multiple strategies for comparing similarity matrices, such as canonical correlation analysis (CCA). Each approach has its strengths and weaknesses. Pearson correlation provides a simple, but intuitive strategy. In a research setting, the optimal comparison strategy will depend on the details of the project.\n",
    "```\n",
    "\n",
    "In general, computing a pairwise similarity matrix is expensive in terms of computational and storage costs. While the costs are minimal for this small stimulus set, PsiZ is designed to scale to large problems. For this reason, pairwise similarity is computed using a batch strategy. We start by creating a dataset of index pairs via the `psiz.data.Rate` object."
   ]
  },
  {
   "cell_type": "code",
   "execution_count": 13,
   "metadata": {},
   "outputs": [],
   "source": [
    "# Assemble a TF Dataset of pairwise indices that will be used to compute\n",
    "# \"unrolled\" similarity matrices. Note that we start the indices at `1`\n",
    "# since we are not interested in computing the similarity of the\n",
    "# placeholder `0` index.\n",
    "content_pairs = psiz.data.Rate(\n",
    "    psiz.utils.pairwise_indices(np.arange(n_stimuli) + 1, elements='upper')\n",
    ")\n",
    "# NOTE: We include an placeholder \"target\" component in dataset tuple to\n",
    "# satisfy the assumptions of `predict` method.\n",
    "dummy_outcome = psiz.data.Continuous(np.ones([content_pairs.n_sample, 1]))\n",
    "tfds_pairs = psiz.data.Dataset(\n",
    "    [content_pairs, dummy_outcome]\n",
    ").export().batch(batch_size, drop_remainder=False)"
   ]
  },
  {
   "attachments": {},
   "cell_type": "markdown",
   "metadata": {},
   "source": [
    "Next we create a Keras model that predicts pairwise similarity and instantiate an instance for the virtual agent and inferred model."
   ]
  },
  {
   "cell_type": "code",
   "execution_count": 14,
   "metadata": {},
   "outputs": [],
   "source": [
    "class PairwiseModel(tf.keras.Model):\n",
    "    \"\"\"A model that outputs similarity between input pairs.\"\"\"\n",
    "\n",
    "    def __init__(self, percept=None, kernel=None, **kwargs):\n",
    "        \"\"\"Initialize.\"\"\"\n",
    "        super(PairwiseModel, self).__init__(**kwargs)\n",
    "        self.percept = percept\n",
    "        self.kernel = kernel\n",
    "\n",
    "    def call(self, inputs):\n",
    "        \"\"\"Call.\"\"\"\n",
    "        stimuli_axis = 1\n",
    "        z = self.percept(inputs['rate2_stimulus_set'])\n",
    "        z_0 = tf.gather(z, indices=tf.constant(0), axis=stimuli_axis)\n",
    "        z_1 = tf.gather(z, indices=tf.constant(1), axis=stimuli_axis)\n",
    "        return self.kernel([z_0, z_1])\n",
    "\n",
    "\n",
    "virtual_agent_pairwise = PairwiseModel(\n",
    "    percept=virtual_agent_2rank1.behavior.percept,\n",
    "    kernel=virtual_agent_2rank1.behavior.kernel\n",
    ")\n",
    "inferred_pairwise = PairwiseModel(\n",
    "    percept=inferred_model.behavior.percept,\n",
    "    kernel=inferred_model.behavior.kernel\n",
    ")"
   ]
  },
  {
   "attachments": {},
   "cell_type": "markdown",
   "metadata": {},
   "source": [
    "After computing the pairwise similarities for both the `virtual_agent` and `inferred_model`, we compute the Pearson correlation between the two sets of values."
   ]
  },
  {
   "cell_type": "code",
   "execution_count": 15,
   "metadata": {},
   "outputs": [
    {
     "name": "stdout",
     "output_type": "stream",
     "text": [
      "Pearson rho: 0.92\n"
     ]
    }
   ],
   "source": [
    "from scipy.stats import pearsonr\n",
    "\n",
    "# The pairwise similarities for the virtual agent.\n",
    "virtual_agent_similarity = virtual_agent_pairwise.predict(tfds_pairs)\n",
    "# The pairwsie similarities for the inferred model.\n",
    "inferred_similarity = inferred_pairwise.predict(tfds_pairs)\n",
    "\n",
    "rho, _ = pearsonr(virtual_agent_similarity, inferred_similarity)\n",
    "print('Pearson rho: {0:.2f}'.format(rho))"
   ]
  },
  {
   "attachments": {},
   "cell_type": "markdown",
   "metadata": {},
   "source": [
    "The high Pearson correlation reveals that what initially seemed like a notable difference from the perspective of absolute coordinate position and Euclidean distance, is only a minor difference from the perspective of pairwise similarity. The high correlation value also suggests that the embedding solution is stable and that a sufficient amount of data has been used to train the model.\n",
    "\n",
    "```{note}\n",
    "To decide if an embedding is stable, you can use the conservative heuristic of a Pearson correlation of 0.95 or greater. Depending on your research goals, you may need to use a lower or higher threshold. Aiming for a correlation of 1.00 is typically impractical since there are diminishing returns to data collection. If a high Pearson correlation is necessary, you should strongly consider more sophisticated data collection strategies, such as active learning. Strategies like active learning help make the most of your data collection budget.\n",
    "```"
   ]
  },
  {
   "attachments": {},
   "cell_type": "markdown",
   "metadata": {},
   "source": [
    "# Summary\n",
    "\n",
    "The Beginner Tutorial introduced a number of topics:\n",
    "* The general problem PsiZ is designed to solve\n",
    "* Constructing a basic embedding model.\n",
    "* Data prepartion\n",
    "* Model inference\n",
    "* Visualizing an embedding\n",
    "* Checking second-order isomorphism.\n",
    "\n",
    "The Beginner Tutorial employed a number of simplifications to keep the focus on the general organization of PsiZ and avoid clutter from optional features. To learn about additional features, explore the remaining tutorials and example scripts.\n",
    "\n",
    "## Exercises\n",
    "\n",
    "1. Using only 10% of the data, train a new model. Perform an RSA analysis between the new inferred model amd the virtual agent. What does the RSA analysis suggest? Is 10% of the data sufficient to achieve a stable embedding?\n",
    "2. When instantiating the virtual agent, use `n_dim=3`. Now train three new models: one that uses `n_dim=2`, `n_dim=3`, and `n_dim=4`. Which of the new models has a better test loss? What does this mean from the perspective of selecting a model with the best generalization performance?"
   ]
  },
  {
   "attachments": {},
   "cell_type": "markdown",
   "metadata": {},
   "source": [
    "\n",
    "```{bibliography}\n",
    ":style: plain\n",
    "```"
   ]
  }
 ],
 "metadata": {
  "interpreter": {
   "hash": "65de726c653ecc9d95d3eaef7d4dccdf82ef132dc6a5da9fc48255c203feab6d"
  },
  "kernelspec": {
   "display_name": "Python 3.9.12 ('psiz_tf28_py39')",
   "language": "python",
   "name": "python3"
  },
  "language_info": {
   "codemirror_mode": {
    "name": "ipython",
    "version": 3
   },
   "file_extension": ".py",
   "mimetype": "text/x-python",
   "name": "python",
   "nbconvert_exporter": "python",
   "pygments_lexer": "ipython3",
   "version": "3.9.12"
  },
  "orig_nbformat": 4
 },
 "nbformat": 4,
 "nbformat_minor": 2
}
